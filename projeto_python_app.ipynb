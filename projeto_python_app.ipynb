{
  "nbformat": 4,
  "nbformat_minor": 0,
  "metadata": {
    "colab": {
      "private_outputs": true,
      "provenance": [],
      "authorship_tag": "ABX9TyMal4N6ebTCws1hwSYWARN3",
      "include_colab_link": true
    },
    "kernelspec": {
      "name": "python3",
      "display_name": "Python 3"
    },
    "language_info": {
      "name": "python"
    }
  },
  "cells": [
    {
      "cell_type": "markdown",
      "metadata": {
        "id": "view-in-github",
        "colab_type": "text"
      },
      "source": [
        "<a href=\"https://colab.research.google.com/github/kleber427/ead-unifecaf/blob/main/projeto_python_app.ipynb\" target=\"_parent\"><img src=\"https://colab.research.google.com/assets/colab-badge.svg\" alt=\"Open In Colab\"/></a>"
      ]
    },
    {
      "cell_type": "code",
      "source": [
        "pip install pandas dash plotly"
      ],
      "metadata": {
        "id": "nQTtXhXSmERx"
      },
      "execution_count": null,
      "outputs": []
    },
    {
      "cell_type": "code",
      "source": [
        "import pandas as pd\n",
        "\n",
        "# Criando um DataFrame de exemplo\n",
        "data = {\n",
        "    'Marca_Cod': ['A', 'B', 'C', 'D', 'E', 'F'],\n",
        "    'Nota_MinMax': [4.5, 4.7, 4.3, 4.6, 4.2, 4.8],\n",
        "    'N_Avaliacoes_MinMax': [150, 120, 90, 100, 80, 200],\n",
        "    'Preco_MinMax': [200, 250, 150, 300, 100, 400]\n",
        "}\n",
        "\n",
        "df = pd.DataFrame(data)\n",
        "df.to_csv('ecommerce_estatistica.csv', index=False)\n",
        "print(\"Arquivo 'ecommerce_estatistica.csv' criado com sucesso!\")"
      ],
      "metadata": {
        "id": "sPe6y_VgrmHw"
      },
      "execution_count": null,
      "outputs": []
    },
    {
      "cell_type": "code",
      "source": [
        "!python create_csv.py"
      ],
      "metadata": {
        "id": "KNbsyAySrtJi"
      },
      "execution_count": null,
      "outputs": []
    },
    {
      "cell_type": "code",
      "source": [
        "import pandas as pd\n",
        "from dash import Dash, dcc, html\n",
        "import plotly.express as px\n",
        "import os\n",
        "\n",
        "# Passo 1: Ler o arquivo CSV em um DataFrame\n",
        "try:\n",
        "    df = pd.read_csv('ecommerce_estatistica.csv')\n",
        "    print(\"Arquivo lido com sucesso!\")\n",
        "except FileNotFoundError:\n",
        "    print(\"Erro: O arquivo 'ecommerce_estatistica.csv' não foi encontrado. Verifique o caminho e tente novamente.\")\n",
        "    exit()\n",
        "\n",
        "# Passo 2: Criar a aplicação Dash\n",
        "app = Dash(__name__)\n",
        "\n",
        "# Passo 3: Criar gráficos com Plotly\n",
        "# Gráfico de histograma para as notas\n",
        "fig_hist = px.histogram(df, x='Nota_MinMax', title=\"Histograma de Notas MinMax\")\n",
        "\n",
        "# Gráfico de dispersão: Nota vs Preço\n",
        "fig_disp = px.scatter(df, x='Nota_MinMax', y='Preco_MinMax', title=\"Dispersão: Nota x Preço\")\n",
        "\n",
        "# Passo 4: Layout da aplicação\n",
        "app.layout = html.Div(children=[\n",
        "    html.H1(children='Visualização de Dados do Ecommerce'),\n",
        "\n",
        "    html.Div(children='Gráficos interativos gerados a partir do arquivo CSV.'),\n",
        "\n",
        "    dcc.Graph(\n",
        "        id='grafico_histograma',\n",
        "        figure=fig_hist\n",
        "    ),\n",
        "\n",
        "    dcc.Graph(\n",
        "        id='grafico_dispersao',\n",
        "        figure=fig_disp\n",
        "    ),\n",
        "])\n",
        "\n",
        "# Passo 5: Executar a aplicação\n",
        "if __name__ == '__main__':\n",
        "    app.run_server(debug=True)"
      ],
      "metadata": {
        "id": "qLb1OM_ysGhQ"
      },
      "execution_count": null,
      "outputs": []
    }
  ]
}